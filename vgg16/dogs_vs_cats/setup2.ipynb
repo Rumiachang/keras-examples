{
 "cells": [
  {
   "cell_type": "code",
   "execution_count": 3,
   "metadata": {},
   "outputs": [
    {
     "data": {
      "text/plain": [
       "'\\n# 最初の1000枚の画像をtrain_dirに移動\\nfor i in range(1000):\\n    os.rename(\"%s/dog.%d.jpg\" % (source_dir, i + 1),\\n              \"%s/dogs/dog%04d.jpg\" % (train_dir, i + 1))\\n    os.rename(\"%s/cat.%d.jpg\" % (source_dir, i + 1),\\n              \"%s/cats/cat%04d.jpg\" % (train_dir, i + 1))\\n\\n# 次の400枚の画像をvalid_dirに移動\\nfor i in range(400):\\n    os.rename(\"%s/dog.%d.jpg\" % (source_dir, 1000 + i + 1),\\n              \"%s/dogs/dog%04d.jpg\" % (valid_dir, i + 1))\\n    os.rename(\"%s/cat.%d.jpg\" % (source_dir, 1000 + i + 1),\\n              \"%s/cats/cat%04d.jpg\" % (valid_dir, i + 1))\\n'"
      ]
     },
     "execution_count": 3,
     "metadata": {},
     "output_type": "execute_result"
    }
   ],
   "source": [
    "import os\n",
    "import glob\n",
    "\"\"\"\n",
    "train.zipを解凍したtrainから\n",
    "https://blog.keras.io/building-powerful-image-classification-models-using-very-little-data.html\n",
    "にあるように訓練データを振り分ける\n",
    "\"\"\"\n",
    "\n",
    "imgs_path = \"./data/validation/macaques/*.jpg\"\n",
    "source_dir = \"./train\"\n",
    "train_dir = \"./data/train\"\n",
    "valid_dir = \"./data/validation\"\n",
    "\"\"\"\n",
    "os.makedirs(\"%s/dogs\" % train_dir)\n",
    "os.makedirs(\"%s/cats\" % train_dir)\n",
    "os.makedirs(\"%s/dogs\" % valid_dir)\n",
    "os.makedirs(\"%s/cats\" % valid_dir)\n",
    "\"\"\"\n",
    "\n",
    "\n",
    "list_imgs_path = glob.glob(imgs_path)\n",
    "for i, imgs_file in enumerate(list_imgs_path):\n",
    "    os.rename(imgs_file ,\"./data/validation/macaques/\"+\"macaque\" + str(i) + \".jpg\" )\n",
    "\n",
    "\"\"\"\n",
    "# 最初の1000枚の画像をtrain_dirに移動\n",
    "for i in range(1000):\n",
    "    os.rename(\"%s/dog.%d.jpg\" % (source_dir, i + 1),\n",
    "              \"%s/dogs/dog%04d.jpg\" % (train_dir, i + 1))\n",
    "    os.rename(\"%s/cat.%d.jpg\" % (source_dir, i + 1),\n",
    "              \"%s/cats/cat%04d.jpg\" % (train_dir, i + 1))\n",
    "\n",
    "# 次の400枚の画像をvalid_dirに移動\n",
    "for i in range(400):\n",
    "    os.rename(\"%s/dog.%d.jpg\" % (source_dir, 1000 + i + 1),\n",
    "              \"%s/dogs/dog%04d.jpg\" % (valid_dir, i + 1))\n",
    "    os.rename(\"%s/cat.%d.jpg\" % (source_dir, 1000 + i + 1),\n",
    "              \"%s/cats/cat%04d.jpg\" % (valid_dir, i + 1))\n",
    "\"\"\"\n"
   ]
  }
 ],
 "metadata": {
  "kernelspec": {
   "display_name": "Python 3",
   "language": "python",
   "name": "python3"
  },
  "language_info": {
   "codemirror_mode": {
    "name": "ipython",
    "version": 3
   },
   "file_extension": ".py",
   "mimetype": "text/x-python",
   "name": "python",
   "nbconvert_exporter": "python",
   "pygments_lexer": "ipython3",
   "version": "3.5.4"
  }
 },
 "nbformat": 4,
 "nbformat_minor": 2
}
